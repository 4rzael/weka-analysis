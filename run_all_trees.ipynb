{
 "cells": [
  {
   "cell_type": "code",
   "execution_count": null,
   "metadata": {
    "collapsed": true
   },
   "outputs": [],
   "source": [
    "from subprocess import Popen, PIPE, DEVNULL, TimeoutExpired\n",
    "import numpy as np\n",
    "from functools import lru_cache\n",
    "from multiprocessing.dummy import Pool as ThreadPool "
   ]
  },
  {
   "cell_type": "code",
   "execution_count": null,
   "metadata": {
    "collapsed": true
   },
   "outputs": [],
   "source": [
    "# For loading bar\n",
    "try:\n",
    "    from ipywidgets import FloatProgress\n",
    "except Exception as e:\n",
    "    print(\"Couldn't import ipywidget. Using deprecated alternative\", e)\n",
    "    from IPython.html.widgets import FloatProgress\n",
    "from IPython.display import display"
   ]
  },
  {
   "cell_type": "code",
   "execution_count": null,
   "metadata": {
    "collapsed": true,
    "scrolled": true
   },
   "outputs": [],
   "source": [
    "possible_configs = {\n",
    "    'binary_splits': (True, False), # -B\n",
    "    'confidence_factor': tuple([float(v) for v in np.around(np.arange(0.1, 1, 0.1), 2)]), # -C %1.2f\n",
    "    'min_num_obj': tuple(range(1, 10)), # -M %d\n",
    "    'num_folds': tuple(range(2, 10)), # -N 3\n",
    "    'reduced_error_pruning': (True, False), # -R\n",
    "    'save_instance_data': (True, False), # -L\n",
    "    'subtree_raising': (True, False), # -S\n",
    "    'unpruned': (True, False), # -U,\n",
    "    'use_laplace': (True, False), # -A\n",
    "}"
   ]
  },
  {
   "cell_type": "code",
   "execution_count": null,
   "metadata": {
    "collapsed": true
   },
   "outputs": [],
   "source": [
    "def extract_config(config):\n",
    "    reduced_error_pruning = False\n",
    "    unpruned = False\n",
    "    \n",
    "    \n",
    "    cmd = []\n",
    "    if 'reduced_error_pruning' in config and config['reduced_error_pruning'] is True:\n",
    "        cmd.append('-R')\n",
    "        reduced_error_pruning = True\n",
    "    if 'unpruned' in config and config['unpruned'] is True and not reduced_error_pruning:\n",
    "        cmd.append('-U')\n",
    "        unpruned = True\n",
    "    if 'binary_splits' in config and config['binary_splits'] is True:\n",
    "        cmd.append('-B')\n",
    "    if 'confidence_factor' in config and not reduced_error_pruning and not unpruned:\n",
    "        cmd += ['-C', '{:1.2f}'.format(config['confidence_factor'])]\n",
    "    if 'min_num_obj' in config:\n",
    "        cmd += ['-M', str(config['min_num_obj'])]\n",
    "    if 'num_folds' in config and reduced_error_pruning:\n",
    "        cmd += ['-N', str(config['num_folds'])]\n",
    "    if 'save_instance_data' in config and config['save_instance_data'] is True:\n",
    "        cmd.append('-L')\n",
    "    if 'subtree_raising' in config and config['subtree_raising'] is False and not unpruned:\n",
    "        cmd.append('-S')\n",
    "    if 'use_laplace' in config and config['use_laplace'] is True:\n",
    "        cmd.append('-A')\n",
    "        \n",
    "    return cmd\n",
    "    "
   ]
  },
  {
   "cell_type": "code",
   "execution_count": null,
   "metadata": {
    "collapsed": true
   },
   "outputs": [],
   "source": [
    "def filename_from_config(prefix, config, extension):\n",
    "    if type(extension) is str and len(extension) > 0 and extension[0] == '.':\n",
    "        extension = extension[1:]\n",
    "    \n",
    "    basic_name = '_'.join(extract_config(config)).replace('-', '').lower()\n",
    "    return '{}{}.{}'.format(prefix, basic_name, extension)"
   ]
  },
  {
   "cell_type": "code",
   "execution_count": null,
   "metadata": {
    "collapsed": true
   },
   "outputs": [],
   "source": [
    "def run_one_experiment(config):\n",
    "    command_line = 'java -Xmx1000M -cp /usr/share/java/weka.jar weka.classifiers.trees.J48 -t auto_imports_85_data.arff -c first -x 10'\n",
    "\n",
    "    cmd_array = command_line.split()\n",
    "    cmd_array += extract_config(config)\n",
    "    \n",
    "    proc = Popen(cmd_array, stderr=PIPE, stdout=PIPE)\n",
    "    try:\n",
    "        outs, errs = proc.communicate(timeout=30)\n",
    "        if len(outs) > 0:\n",
    "            return outs.decode('utf8')\n",
    "        else:\n",
    "            error = errs.decode('utf8').split('\\n')[1]\n",
    "            raise ValueError(error)\n",
    "        return res\n",
    "    except TimeoutExpired:\n",
    "        print('Process Timeout !', filename_from_config(config))\n",
    "        proc.kill()\n",
    "        raise ValueError('timeout')\n"
   ]
  },
  {
   "cell_type": "code",
   "execution_count": null,
   "metadata": {},
   "outputs": [],
   "source": [
    "@lru_cache()\n",
    "def combinations(a, b):\n",
    "    if a is None:\n",
    "        return b\n",
    "    res = []\n",
    "    for _a in a:\n",
    "        for _b in b:\n",
    "            res.append((_a, _b))\n",
    "    return tuple(res)\n",
    "\n",
    "@lru_cache()\n",
    "def unwrap(elem):\n",
    "    a, b = elem\n",
    "    if type(a) is not tuple and type(b) is not tuple:\n",
    "        return (a,b)\n",
    "    if type(a) is tuple:\n",
    "        return unwrap(a) + (b,)\n",
    "\n",
    "def unwrap_all(elems):\n",
    "    return ([unwrap(elem) for elem in elems])"
   ]
  },
  {
   "cell_type": "code",
   "execution_count": null,
   "metadata": {
    "collapsed": true
   },
   "outputs": [],
   "source": [
    "class HashableConfig:\n",
    "    def __init__(self, idx, config):\n",
    "        self.idx = idx\n",
    "        self.config = config\n",
    "    \n",
    "    def __hash__(self):\n",
    "        return hash(' '.join(extract_config(self.config)))\n",
    "    \n",
    "    def __repr__(self):\n",
    "        return ' '.join(extract_config(self.config))\n",
    "\n",
    "    def __str__(self):\n",
    "        return self.__repr__()\n",
    "    \n",
    "    def __eq__(self, other):\n",
    "        return hash(self) == hash(other)"
   ]
  },
  {
   "cell_type": "code",
   "execution_count": null,
   "metadata": {},
   "outputs": [],
   "source": [
    "def get_all_unique_configs():\n",
    "    combined = None\n",
    "    for possible_values in possible_configs.values():\n",
    "        combined = combinations(combined, possible_values)\n",
    "    \n",
    "    all_configs = [dict(zip(possible_configs.keys(), values)) for values in unwrap_all(combined)]\n",
    "\n",
    "    hashables = [HashableConfig(idx, conf) for idx, conf in enumerate(all_configs)]\n",
    "    uniques_hashable = set(hashables)\n",
    "    \n",
    "    unique_configs = [all_configs[hconf.idx] for hconf in uniques_hashable]\n",
    "    return unique_configs"
   ]
  },
  {
   "cell_type": "code",
   "execution_count": null,
   "metadata": {
    "collapsed": true
   },
   "outputs": [],
   "source": [
    "def run_all():\n",
    "    \n",
    "    thread_pool = ThreadPool(4) \n",
    "    \n",
    "    process_loading_bar = FloatProgress(min=0, max=len(all_configs))\n",
    "    display(process_loading_bar)\n",
    "    \n",
    "    all_configs = get_all_unique_configs()\n",
    "    \n",
    "    print('Running {} trees... Please wait'.format(len(all_configs)))\n",
    "    \n",
    "    def subfunc(param):\n",
    "        idx, config = param\n",
    "        try:\n",
    "            experiment = run_one_experiment(config)\n",
    "            with open(filename_from_config('output/results_', config, 'out'), 'w') as file:\n",
    "                file.write(experiment)\n",
    "        except ValueError as e:\n",
    "            print('Error:', e)\n",
    "        finally:\n",
    "            process_loading_bar.value += 1\n",
    "    \n",
    "    thread_pool.map(subfunc, enumerate(all_configs))\n"
   ]
  },
  {
   "cell_type": "code",
   "execution_count": null,
   "metadata": {},
   "outputs": [],
   "source": [
    "run_all()"
   ]
  },
  {
   "cell_type": "code",
   "execution_count": null,
   "metadata": {
    "collapsed": true
   },
   "outputs": [],
   "source": []
  }
 ],
 "metadata": {
  "kernelspec": {
   "display_name": "Python 3",
   "language": "python",
   "name": "python3"
  },
  "language_info": {
   "codemirror_mode": {
    "name": "ipython",
    "version": 3
   },
   "file_extension": ".py",
   "mimetype": "text/x-python",
   "name": "python",
   "nbconvert_exporter": "python",
   "pygments_lexer": "ipython3",
   "version": "3.6.3"
  }
 },
 "nbformat": 4,
 "nbformat_minor": 2
}
