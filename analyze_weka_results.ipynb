{
 "cells": [
  {
   "cell_type": "code",
   "execution_count": 2,
   "metadata": {
    "collapsed": true
   },
   "outputs": [],
   "source": [
    "from os.path import join\n",
    "import os\n",
    "import numpy as np\n",
    "import pandas as pd\n",
    "%matplotlib inline"
   ]
  },
  {
   "cell_type": "code",
   "execution_count": 3,
   "metadata": {
    "collapsed": true
   },
   "outputs": [],
   "source": [
    "INPUT_FOLDER = './output'"
   ]
  },
  {
   "cell_type": "code",
   "execution_count": 84,
   "metadata": {},
   "outputs": [],
   "source": [
    "# Return the number of non-leaves nodes in a tree\n",
    "def get_nodes(filename, folder=INPUT_FOLDER):\n",
    "    with open(join(folder, filename), 'r') as file:\n",
    "        count = 0\n",
    "        while file.readline().find('------------------') < 0:\n",
    "            pass\n",
    "\n",
    "        while True:\n",
    "            line = file.readline()\n",
    "            if line.find('Number of Leaves') >= 0:\n",
    "                break\n",
    "            if line.find('=') >= 0 and line.find(':') < 0:\n",
    "                count += 1\n",
    "            \n",
    "    return count"
   ]
  },
  {
   "cell_type": "code",
   "execution_count": 74,
   "metadata": {
    "collapsed": true
   },
   "outputs": [],
   "source": [
    "# return the depth of a tree\n",
    "def get_depth(filename, folder=INPUT_FOLDER):\n",
    "    with open(join(folder, filename), 'r') as file:\n",
    "        count = 0\n",
    "        while file.readline().find('------------------') < 0:\n",
    "            pass\n",
    "\n",
    "        while True:\n",
    "            line = file.readline()\n",
    "            if line.find('Number of Leaves') >= 0:\n",
    "                break\n",
    "            if line.count('|') > count:\n",
    "                count = line.count('|')\n",
    "            \n",
    "    return count + 1"
   ]
  },
  {
   "cell_type": "code",
   "execution_count": 75,
   "metadata": {
    "collapsed": true
   },
   "outputs": [],
   "source": [
    "# return the number of nodes in a tree\n",
    "def get_tree_size(filename, folder=INPUT_FOLDER):\n",
    "    with open(join(folder, filename), 'r') as file:\n",
    "        while True:\n",
    "            line = file.readline()\n",
    "            if line.find('Size of the tree') >= 0:\n",
    "                break\n",
    "    return float(line.split()[-1])"
   ]
  },
  {
   "cell_type": "code",
   "execution_count": 76,
   "metadata": {
    "collapsed": true
   },
   "outputs": [],
   "source": [
    "# return the number of leaves in a tree\n",
    "def get_leaves(filename, folder=INPUT_FOLDER):\n",
    "    with open(join(folder, filename), 'r') as file:\n",
    "        while True:\n",
    "            line = file.readline()\n",
    "            if line.find('Number of Leaves') >= 0:\n",
    "                break\n",
    "    return float(line.split()[-1])"
   ]
  },
  {
   "cell_type": "code",
   "execution_count": 77,
   "metadata": {
    "collapsed": true
   },
   "outputs": [],
   "source": [
    "# return the predictive precision of a tree\n",
    "def get_precision(filename, folder=INPUT_FOLDER):\n",
    "    with open(join(folder, filename), 'r') as file:\n",
    "        while file.readline().find('=== Stratified cross-validation ===') < 0:\n",
    "            pass\n",
    "        while True:\n",
    "            line = file.readline()\n",
    "            if line.find('Correctly Classified Instances') >= 0:\n",
    "                break\n",
    "    return float(line.split()[-2])"
   ]
  },
  {
   "cell_type": "code",
   "execution_count": 78,
   "metadata": {
    "collapsed": true
   },
   "outputs": [],
   "source": [
    "# Parse the command-line parameters from a file a return a dictionary\n",
    "\n",
    "def command_line_to_config(line):\n",
    "    config = {}\n",
    "    config['reduced_error_pruning'] = '-R' in line\n",
    "    config['unpruned'] = '-U' in line\n",
    "    config['binary_splits'] = '-B' in line\n",
    "    config['save_instance_data'] = '-L' in line\n",
    "    config['subtree_raising'] = '-S' in line\n",
    "    config['config_laplace'] = '-A' in line\n",
    "\n",
    "    config['confidence_factor'] = float(line[line.index('-C') + 1]) if '-C' in line else None\n",
    "    config['min_num_obj'] = int(line[line.index('-M') + 1]) if '-M' in line else None\n",
    "    config['num_folds'] = int(line[line.index('-N') + 1]) if '-N' in line else None\n",
    "    \n",
    "    return config\n",
    "\n",
    "def get_config(filename, folder=INPUT_FOLDER):\n",
    "    with open(join(folder, filename), 'r') as file:\n",
    "        while True:\n",
    "            line = file.readline()\n",
    "            if line.find('Options:') >= 0:\n",
    "                break\n",
    "        \n",
    "        return command_line_to_config(line.split()[1:])"
   ]
  },
  {
   "cell_type": "code",
   "execution_count": 60,
   "metadata": {
    "collapsed": true
   },
   "outputs": [],
   "source": [
    "def merge_dicts(*dicts):\n",
    "    l = []\n",
    "    for d in dicts:\n",
    "        l += list(d.items())\n",
    "    return dict(l)"
   ]
  },
  {
   "cell_type": "code",
   "execution_count": 90,
   "metadata": {
    "scrolled": true
   },
   "outputs": [
    {
     "ename": "FileNotFoundError",
     "evalue": "[Errno 2] No such file or directory: 'datasets/output/dataset.csv'",
     "output_type": "error",
     "traceback": [
      "\u001b[0;31m---------------------------------------------------------------------------\u001b[0m",
      "\u001b[0;31mFileNotFoundError\u001b[0m                         Traceback (most recent call last)",
      "\u001b[0;32m<ipython-input-90-b878cf668608>\u001b[0m in \u001b[0;36m<module>\u001b[0;34m()\u001b[0m\n\u001b[1;32m      6\u001b[0m                                     \u001b[0;34m{\u001b[0m\u001b[0;34m'nodes'\u001b[0m\u001b[0;34m:\u001b[0m \u001b[0mget_nodes\u001b[0m\u001b[0;34m(\u001b[0m\u001b[0mname\u001b[0m\u001b[0;34m)\u001b[0m\u001b[0;34m}\u001b[0m\u001b[0;34m,\u001b[0m\u001b[0;34m\u001b[0m\u001b[0m\n\u001b[1;32m      7\u001b[0m                                     {'depth': get_depth(name)}) for name in os.listdir(INPUT_FOLDER)])\n\u001b[0;32m----> 8\u001b[0;31m \u001b[0mdataset\u001b[0m\u001b[0;34m.\u001b[0m\u001b[0mto_csv\u001b[0m\u001b[0;34m(\u001b[0m\u001b[0;34m'datasets/output/dataset.csv'\u001b[0m\u001b[0;34m,\u001b[0m \u001b[0mindex\u001b[0m\u001b[0;34m=\u001b[0m\u001b[0;32mFalse\u001b[0m\u001b[0;34m)\u001b[0m\u001b[0;34m\u001b[0m\u001b[0m\n\u001b[0m\u001b[1;32m      9\u001b[0m \u001b[0mdataset\u001b[0m \u001b[0;34m=\u001b[0m \u001b[0mdataset\u001b[0m\u001b[0;34m.\u001b[0m\u001b[0msort_values\u001b[0m\u001b[0;34m(\u001b[0m\u001b[0mby\u001b[0m\u001b[0;34m=\u001b[0m\u001b[0;34m[\u001b[0m\u001b[0;34m'precision'\u001b[0m\u001b[0;34m,\u001b[0m \u001b[0;34m'depth'\u001b[0m\u001b[0;34m,\u001b[0m \u001b[0;34m'tree_size'\u001b[0m\u001b[0;34m,\u001b[0m \u001b[0;34m'leaves'\u001b[0m\u001b[0;34m]\u001b[0m\u001b[0;34m)\u001b[0m\u001b[0;34m\u001b[0m\u001b[0m\n\u001b[1;32m     10\u001b[0m \u001b[0mdataset\u001b[0m\u001b[0;34m.\u001b[0m\u001b[0mto_csv\u001b[0m\u001b[0;34m(\u001b[0m\u001b[0;34m'datasets/output/sorted_dataset.csv'\u001b[0m\u001b[0;34m,\u001b[0m \u001b[0mindex\u001b[0m\u001b[0;34m=\u001b[0m\u001b[0;32mFalse\u001b[0m\u001b[0;34m)\u001b[0m\u001b[0;34m\u001b[0m\u001b[0m\n",
      "\u001b[0;32m~/anaconda3/lib/python3.6/site-packages/pandas/core/frame.py\u001b[0m in \u001b[0;36mto_csv\u001b[0;34m(self, path_or_buf, sep, na_rep, float_format, columns, header, index, index_label, mode, encoding, compression, quoting, quotechar, line_terminator, chunksize, tupleize_cols, date_format, doublequote, escapechar, decimal)\u001b[0m\n\u001b[1;32m   1401\u001b[0m                                      \u001b[0mdoublequote\u001b[0m\u001b[0;34m=\u001b[0m\u001b[0mdoublequote\u001b[0m\u001b[0;34m,\u001b[0m\u001b[0;34m\u001b[0m\u001b[0m\n\u001b[1;32m   1402\u001b[0m                                      escapechar=escapechar, decimal=decimal)\n\u001b[0;32m-> 1403\u001b[0;31m         \u001b[0mformatter\u001b[0m\u001b[0;34m.\u001b[0m\u001b[0msave\u001b[0m\u001b[0;34m(\u001b[0m\u001b[0;34m)\u001b[0m\u001b[0;34m\u001b[0m\u001b[0m\n\u001b[0m\u001b[1;32m   1404\u001b[0m \u001b[0;34m\u001b[0m\u001b[0m\n\u001b[1;32m   1405\u001b[0m         \u001b[0;32mif\u001b[0m \u001b[0mpath_or_buf\u001b[0m \u001b[0;32mis\u001b[0m \u001b[0;32mNone\u001b[0m\u001b[0;34m:\u001b[0m\u001b[0;34m\u001b[0m\u001b[0m\n",
      "\u001b[0;32m~/anaconda3/lib/python3.6/site-packages/pandas/io/formats/format.py\u001b[0m in \u001b[0;36msave\u001b[0;34m(self)\u001b[0m\n\u001b[1;32m   1575\u001b[0m             f, handles = _get_handle(self.path_or_buf, self.mode,\n\u001b[1;32m   1576\u001b[0m                                      \u001b[0mencoding\u001b[0m\u001b[0;34m=\u001b[0m\u001b[0mself\u001b[0m\u001b[0;34m.\u001b[0m\u001b[0mencoding\u001b[0m\u001b[0;34m,\u001b[0m\u001b[0;34m\u001b[0m\u001b[0m\n\u001b[0;32m-> 1577\u001b[0;31m                                      compression=self.compression)\n\u001b[0m\u001b[1;32m   1578\u001b[0m             \u001b[0mclose\u001b[0m \u001b[0;34m=\u001b[0m \u001b[0;32mTrue\u001b[0m\u001b[0;34m\u001b[0m\u001b[0m\n\u001b[1;32m   1579\u001b[0m \u001b[0;34m\u001b[0m\u001b[0m\n",
      "\u001b[0;32m~/anaconda3/lib/python3.6/site-packages/pandas/io/common.py\u001b[0m in \u001b[0;36m_get_handle\u001b[0;34m(path_or_buf, mode, encoding, compression, memory_map, is_text)\u001b[0m\n\u001b[1;32m    383\u001b[0m         \u001b[0;32melif\u001b[0m \u001b[0mis_text\u001b[0m\u001b[0;34m:\u001b[0m\u001b[0;34m\u001b[0m\u001b[0m\n\u001b[1;32m    384\u001b[0m             \u001b[0;31m# Python 3 and no explicit encoding\u001b[0m\u001b[0;34m\u001b[0m\u001b[0;34m\u001b[0m\u001b[0m\n\u001b[0;32m--> 385\u001b[0;31m             \u001b[0mf\u001b[0m \u001b[0;34m=\u001b[0m \u001b[0mopen\u001b[0m\u001b[0;34m(\u001b[0m\u001b[0mpath_or_buf\u001b[0m\u001b[0;34m,\u001b[0m \u001b[0mmode\u001b[0m\u001b[0;34m,\u001b[0m \u001b[0merrors\u001b[0m\u001b[0;34m=\u001b[0m\u001b[0;34m'replace'\u001b[0m\u001b[0;34m)\u001b[0m\u001b[0;34m\u001b[0m\u001b[0m\n\u001b[0m\u001b[1;32m    386\u001b[0m         \u001b[0;32melse\u001b[0m\u001b[0;34m:\u001b[0m\u001b[0;34m\u001b[0m\u001b[0m\n\u001b[1;32m    387\u001b[0m             \u001b[0;31m# Python 3 and binary mode\u001b[0m\u001b[0;34m\u001b[0m\u001b[0;34m\u001b[0m\u001b[0m\n",
      "\u001b[0;31mFileNotFoundError\u001b[0m: [Errno 2] No such file or directory: 'datasets/output/dataset.csv'"
     ]
    }
   ],
   "source": [
    "# Build a dataset out of the files, with the parameters, and various statistics\n",
    "dataset = pd.DataFrame([merge_dicts(get_config(name),\n",
    "                                    {'precision': get_precision(name)},\n",
    "                                    {'leaves': get_leaves(name)},\n",
    "                                    {'tree_size': get_tree_size(name)},\n",
    "                                    {'nodes': get_nodes(name)},\n",
    "                                    {'depth': get_depth(name)}) for name in os.listdir(INPUT_FOLDER)])\n",
    "dataset.to_csv('datasets/output/dataset.csv', index=False)\n",
    "dataset = dataset.sort_values(by=['precision', 'depth', 'tree_size', 'leaves'])\n",
    "dataset.to_csv('datasets/output/sorted_dataset.csv', index=False)\n",
    "dataset"
   ]
  },
  {
   "cell_type": "markdown",
   "metadata": {},
   "source": [
    "# Linear regression"
   ]
  },
  {
   "cell_type": "code",
   "execution_count": 62,
   "metadata": {
    "collapsed": true
   },
   "outputs": [],
   "source": [
    "from sklearn.linear_model import LinearRegression"
   ]
  },
  {
   "cell_type": "code",
   "execution_count": 63,
   "metadata": {
    "collapsed": true
   },
   "outputs": [],
   "source": [
    "def normalize_df(df):\n",
    "    return (df - df.mean()) / (df.max() - df.min())"
   ]
  },
  {
   "cell_type": "code",
   "execution_count": 83,
   "metadata": {
    "collapsed": true
   },
   "outputs": [],
   "source": [
    "def run_regression(dataset, y_key, ascending=False, drop=[], result_column='coeffs'):\n",
    "    cleaned_dataset = normalize_df(dataset\n",
    "    .drop(drop, axis=1)\n",
    "    .sort_values(by=y_key, ascending=ascending)\n",
    "    ).fillna(0)\n",
    "    \n",
    "    x = cleaned_dataset.drop(y_key, axis=1)\n",
    "    y = cleaned_dataset[y_key]\n",
    "    if ascending:\n",
    "        y = -y\n",
    "    \n",
    "    lm = LinearRegression()\n",
    "    lm.fit(x, y)\n",
    "    pd.options.display.float_format = '{:.4f}'.format\n",
    "    df = pd.DataFrame(list(zip(x.columns, lm.coef_)), columns=['features', result_column])\n",
    "    return df"
   ]
  },
  {
   "cell_type": "code",
   "execution_count": 65,
   "metadata": {
    "collapsed": true
   },
   "outputs": [],
   "source": [
    "def best_and_worst(dataset, y_key, ascending=False, drop=[]):\n",
    "    sorted_dataset = (dataset\n",
    "    .drop(drop, axis=1)\n",
    "    .sort_values(by=y_key, ascending=ascending)\n",
    "    )\n",
    "    \n",
    "    bests = sorted_dataset.iloc[:100]\n",
    "    worsts = sorted_dataset.iloc[-100:]\n",
    "    \n",
    "    print('Bests:')\n",
    "    display(bests.mean())\n",
    "    print('Worsts:')\n",
    "    display(worsts.mean())\n",
    "    print('Mean:')\n",
    "    display(sorted_dataset.mean())"
   ]
  },
  {
   "cell_type": "code",
   "execution_count": 86,
   "metadata": {},
   "outputs": [],
   "source": [
    "output_values = {'tree_size', 'leaves', 'depth', 'nodes'}\n",
    "regression_precision = run_regression(dataset, y_key='precision',\n",
    "                                      drop=output_values - {'precision'},\n",
    "                                      result_column='coefficients for precision')\n",
    "regression_tree_size = run_regression(dataset, y_key='tree_size', ascending=True,\n",
    "                                      drop=output_values - {'tree_size'},\n",
    "                                      result_column='coefficients for leaves')\n",
    "regression_leaves = run_regression(dataset, y_key='leaves', ascending=True,\n",
    "                                   drop=output_values - {'leaves'},\n",
    "                                   result_column='coefficients for tree size')\n",
    "regression_depth = run_regression(dataset, y_key='depth', ascending=True,\n",
    "                                   drop=output_values - {'depth'},\n",
    "                                   result_column='coefficients for depth')\n",
    "regression_nodes = run_regression(dataset, y_key='nodes', ascending=True,\n",
    "                                   drop=output_values - {'nodes'},\n",
    "                                   result_column='coefficients for nodes')"
   ]
  },
  {
   "cell_type": "code",
   "execution_count": 87,
   "metadata": {},
   "outputs": [
    {
     "data": {
      "text/html": [
       "<div>\n",
       "<style>\n",
       "    .dataframe thead tr:only-child th {\n",
       "        text-align: right;\n",
       "    }\n",
       "\n",
       "    .dataframe thead th {\n",
       "        text-align: left;\n",
       "    }\n",
       "\n",
       "    .dataframe tbody tr th {\n",
       "        vertical-align: top;\n",
       "    }\n",
       "</style>\n",
       "<table border=\"1\" class=\"dataframe\">\n",
       "  <thead>\n",
       "    <tr style=\"text-align: right;\">\n",
       "      <th></th>\n",
       "      <th>features</th>\n",
       "      <th>coefficients for precision</th>\n",
       "      <th>coefficients for depth</th>\n",
       "      <th>coefficients for leaves</th>\n",
       "      <th>coefficients for nodes</th>\n",
       "      <th>coefficients for tree size</th>\n",
       "    </tr>\n",
       "  </thead>\n",
       "  <tbody>\n",
       "    <tr>\n",
       "      <th>0</th>\n",
       "      <td>binary_splits</td>\n",
       "      <td>-0.0960</td>\n",
       "      <td>-0.2044</td>\n",
       "      <td>0.1404</td>\n",
       "      <td>-0.1821</td>\n",
       "      <td>0.2261</td>\n",
       "    </tr>\n",
       "    <tr>\n",
       "      <th>1</th>\n",
       "      <td>confidence_factor</td>\n",
       "      <td>0.0235</td>\n",
       "      <td>-0.0100</td>\n",
       "      <td>-0.0872</td>\n",
       "      <td>-0.0501</td>\n",
       "      <td>-0.0900</td>\n",
       "    </tr>\n",
       "    <tr>\n",
       "      <th>2</th>\n",
       "      <td>config_laplace</td>\n",
       "      <td>-0.0010</td>\n",
       "      <td>-0.0001</td>\n",
       "      <td>-0.0003</td>\n",
       "      <td>-0.0003</td>\n",
       "      <td>-0.0002</td>\n",
       "    </tr>\n",
       "    <tr>\n",
       "      <th>3</th>\n",
       "      <td>min_num_obj</td>\n",
       "      <td>-0.3868</td>\n",
       "      <td>0.2650</td>\n",
       "      <td>0.2604</td>\n",
       "      <td>0.3096</td>\n",
       "      <td>0.2112</td>\n",
       "    </tr>\n",
       "    <tr>\n",
       "      <th>4</th>\n",
       "      <td>num_folds</td>\n",
       "      <td>0.1184</td>\n",
       "      <td>-0.0324</td>\n",
       "      <td>0.0411</td>\n",
       "      <td>0.0823</td>\n",
       "      <td>0.0177</td>\n",
       "    </tr>\n",
       "    <tr>\n",
       "      <th>5</th>\n",
       "      <td>reduced_error_pruning</td>\n",
       "      <td>-0.2609</td>\n",
       "      <td>-0.1145</td>\n",
       "      <td>-0.2994</td>\n",
       "      <td>-0.3095</td>\n",
       "      <td>-0.2455</td>\n",
       "    </tr>\n",
       "    <tr>\n",
       "      <th>6</th>\n",
       "      <td>save_instance_data</td>\n",
       "      <td>-0.0000</td>\n",
       "      <td>0.0381</td>\n",
       "      <td>0.0794</td>\n",
       "      <td>0.0640</td>\n",
       "      <td>0.0590</td>\n",
       "    </tr>\n",
       "    <tr>\n",
       "      <th>7</th>\n",
       "      <td>subtree_raising</td>\n",
       "      <td>-0.0008</td>\n",
       "      <td>-0.0000</td>\n",
       "      <td>0.0000</td>\n",
       "      <td>0.0000</td>\n",
       "      <td>0.0000</td>\n",
       "    </tr>\n",
       "    <tr>\n",
       "      <th>8</th>\n",
       "      <td>unpruned</td>\n",
       "      <td>0.0035</td>\n",
       "      <td>-0.0001</td>\n",
       "      <td>-0.0013</td>\n",
       "      <td>-0.0018</td>\n",
       "      <td>-0.0009</td>\n",
       "    </tr>\n",
       "    <tr>\n",
       "      <th>9</th>\n",
       "      <td>NaN</td>\n",
       "      <td>nan</td>\n",
       "      <td>-0.0036</td>\n",
       "      <td>-0.0378</td>\n",
       "      <td>-0.0216</td>\n",
       "      <td>-0.0388</td>\n",
       "    </tr>\n",
       "  </tbody>\n",
       "</table>\n",
       "</div>"
      ],
      "text/plain": [
       "                features  coefficients for precision  coefficients for depth  \\\n",
       "0          binary_splits                     -0.0960                 -0.2044   \n",
       "1      confidence_factor                      0.0235                 -0.0100   \n",
       "2         config_laplace                     -0.0010                 -0.0001   \n",
       "3            min_num_obj                     -0.3868                  0.2650   \n",
       "4              num_folds                      0.1184                 -0.0324   \n",
       "5  reduced_error_pruning                     -0.2609                 -0.1145   \n",
       "6     save_instance_data                     -0.0000                  0.0381   \n",
       "7        subtree_raising                     -0.0008                 -0.0000   \n",
       "8               unpruned                      0.0035                 -0.0001   \n",
       "9                    NaN                         nan                 -0.0036   \n",
       "\n",
       "   coefficients for leaves  coefficients for nodes  coefficients for tree size  \n",
       "0                   0.1404                 -0.1821                      0.2261  \n",
       "1                  -0.0872                 -0.0501                     -0.0900  \n",
       "2                  -0.0003                 -0.0003                     -0.0002  \n",
       "3                   0.2604                  0.3096                      0.2112  \n",
       "4                   0.0411                  0.0823                      0.0177  \n",
       "5                  -0.2994                 -0.3095                     -0.2455  \n",
       "6                   0.0794                  0.0640                      0.0590  \n",
       "7                   0.0000                  0.0000                      0.0000  \n",
       "8                  -0.0013                 -0.0018                     -0.0009  \n",
       "9                  -0.0378                 -0.0216                     -0.0388  "
      ]
     },
     "execution_count": 87,
     "metadata": {},
     "output_type": "execute_result"
    }
   ],
   "source": [
    "pd.concat([\n",
    "    regression_precision,\n",
    "    regression_depth.drop('features', axis=1),\n",
    "    regression_tree_size.drop('features', axis=1),\n",
    "    regression_nodes.drop('features', axis=1),\n",
    "    regression_leaves.drop('features', axis=1),\n",
    "], axis=1)"
   ]
  },
  {
   "cell_type": "markdown",
   "metadata": {},
   "source": [
    "# Best and worsts"
   ]
  },
  {
   "cell_type": "code",
   "execution_count": 67,
   "metadata": {
    "scrolled": true
   },
   "outputs": [
    {
     "name": "stdout",
     "output_type": "stream",
     "text": [
      "Bests:\n"
     ]
    },
    {
     "data": {
      "text/plain": [
       "binary_splits             0.0000\n",
       "confidence_factor         0.6272\n",
       "config_laplace            0.5000\n",
       "depth                     7.0000\n",
       "leaves                   79.5600\n",
       "min_num_obj               1.4000\n",
       "nodes                    14.5200\n",
       "num_folds                    nan\n",
       "precision                83.9609\n",
       "reduced_error_pruning     0.0000\n",
       "save_instance_data        0.5100\n",
       "subtree_raising           0.4400\n",
       "tree_size               105.4000\n",
       "unpruned                  0.0800\n",
       "dtype: float64"
      ]
     },
     "metadata": {},
     "output_type": "display_data"
    },
    {
     "name": "stdout",
     "output_type": "stream",
     "text": [
      "Worsts:\n"
     ]
    },
    {
     "data": {
      "text/plain": [
       "binary_splits            0.6000\n",
       "confidence_factor           nan\n",
       "config_laplace           0.4800\n",
       "depth                    4.3200\n",
       "leaves                  12.4000\n",
       "min_num_obj              8.0400\n",
       "nodes                    4.2800\n",
       "num_folds                3.9200\n",
       "precision               57.1122\n",
       "reduced_error_pruning    1.0000\n",
       "save_instance_data       0.5000\n",
       "subtree_raising          0.5000\n",
       "tree_size               19.8000\n",
       "unpruned                 0.0000\n",
       "dtype: float64"
      ]
     },
     "metadata": {},
     "output_type": "display_data"
    },
    {
     "name": "stdout",
     "output_type": "stream",
     "text": [
      "Mean:\n"
     ]
    },
    {
     "data": {
      "text/plain": [
       "binary_splits            0.5000\n",
       "confidence_factor        0.5000\n",
       "config_laplace           0.5000\n",
       "depth                    6.7889\n",
       "leaves                  28.3683\n",
       "min_num_obj              5.0000\n",
       "nodes                    9.0190\n",
       "num_folds                5.5000\n",
       "precision               69.5269\n",
       "reduced_error_pruning    0.4571\n",
       "save_instance_data       0.5000\n",
       "subtree_raising          0.4857\n",
       "tree_size               42.6635\n",
       "unpruned                 0.0286\n",
       "dtype: float64"
      ]
     },
     "metadata": {},
     "output_type": "display_data"
    }
   ],
   "source": [
    "best_and_worst(dataset, y_key='precision')"
   ]
  },
  {
   "cell_type": "markdown",
   "metadata": {},
   "source": [
    "# Tree size"
   ]
  },
  {
   "cell_type": "code",
   "execution_count": 69,
   "metadata": {
    "scrolled": true
   },
   "outputs": [
    {
     "name": "stdout",
     "output_type": "stream",
     "text": [
      "Bests:\n"
     ]
    },
    {
     "data": {
      "text/plain": [
       "binary_splits            0.7100\n",
       "confidence_factor           nan\n",
       "config_laplace           0.5100\n",
       "depth                    4.2400\n",
       "leaves                   7.2800\n",
       "min_num_obj              8.0200\n",
       "nodes                    3.3500\n",
       "num_folds                4.0900\n",
       "precision               61.1073\n",
       "reduced_error_pruning    1.0000\n",
       "save_instance_data       0.5000\n",
       "subtree_raising          0.5100\n",
       "tree_size               13.5600\n",
       "unpruned                 0.0000\n",
       "dtype: float64"
      ]
     },
     "metadata": {},
     "output_type": "display_data"
    },
    {
     "name": "stdout",
     "output_type": "stream",
     "text": [
      "Worsts:\n"
     ]
    },
    {
     "data": {
      "text/plain": [
       "binary_splits             0.0000\n",
       "confidence_factor         0.5587\n",
       "config_laplace            0.5000\n",
       "depth                     7.0000\n",
       "leaves                   83.7500\n",
       "min_num_obj               1.7000\n",
       "nodes                    14.4200\n",
       "num_folds                    nan\n",
       "precision                80.6927\n",
       "reduced_error_pruning     0.0000\n",
       "save_instance_data        0.5000\n",
       "subtree_raising           0.5200\n",
       "tree_size               109.0400\n",
       "unpruned                  0.0800\n",
       "dtype: float64"
      ]
     },
     "metadata": {},
     "output_type": "display_data"
    },
    {
     "name": "stdout",
     "output_type": "stream",
     "text": [
      "Mean:\n"
     ]
    },
    {
     "data": {
      "text/plain": [
       "binary_splits            0.5000\n",
       "confidence_factor        0.5000\n",
       "config_laplace           0.5000\n",
       "depth                    6.7889\n",
       "leaves                  28.3683\n",
       "min_num_obj              5.0000\n",
       "nodes                    9.0190\n",
       "num_folds                5.5000\n",
       "precision               69.5269\n",
       "reduced_error_pruning    0.4571\n",
       "save_instance_data       0.5000\n",
       "subtree_raising          0.4857\n",
       "tree_size               42.6635\n",
       "unpruned                 0.0286\n",
       "dtype: float64"
      ]
     },
     "metadata": {},
     "output_type": "display_data"
    }
   ],
   "source": [
    "best_and_worst(dataset, y_key='tree_size', ascending=True)"
   ]
  },
  {
   "cell_type": "code",
   "execution_count": 71,
   "metadata": {
    "scrolled": true
   },
   "outputs": [
    {
     "name": "stdout",
     "output_type": "stream",
     "text": [
      "Bests:\n"
     ]
    },
    {
     "data": {
      "text/plain": [
       "binary_splits            0.6800\n",
       "confidence_factor           nan\n",
       "config_laplace           0.5000\n",
       "depth                    4.2700\n",
       "leaves                   7.2800\n",
       "min_num_obj              7.9600\n",
       "nodes                    3.2400\n",
       "num_folds                3.9200\n",
       "precision               61.4195\n",
       "reduced_error_pruning    1.0000\n",
       "save_instance_data       0.5100\n",
       "subtree_raising          0.4900\n",
       "tree_size               13.5600\n",
       "unpruned                 0.0000\n",
       "dtype: float64"
      ]
     },
     "metadata": {},
     "output_type": "display_data"
    },
    {
     "name": "stdout",
     "output_type": "stream",
     "text": [
      "Worsts:\n"
     ]
    },
    {
     "data": {
      "text/plain": [
       "binary_splits             0.0000\n",
       "confidence_factor         0.5341\n",
       "config_laplace            0.5000\n",
       "depth                     6.9200\n",
       "leaves                   84.0800\n",
       "min_num_obj               1.5600\n",
       "nodes                    14.0800\n",
       "num_folds                 2.0000\n",
       "precision                80.4097\n",
       "reduced_error_pruning     0.0800\n",
       "save_instance_data        0.5000\n",
       "subtree_raising           0.5300\n",
       "tree_size               108.8800\n",
       "unpruned                  0.0700\n",
       "dtype: float64"
      ]
     },
     "metadata": {},
     "output_type": "display_data"
    },
    {
     "name": "stdout",
     "output_type": "stream",
     "text": [
      "Mean:\n"
     ]
    },
    {
     "data": {
      "text/plain": [
       "binary_splits            0.5000\n",
       "confidence_factor        0.5000\n",
       "config_laplace           0.5000\n",
       "depth                    6.7889\n",
       "leaves                  28.3683\n",
       "min_num_obj              5.0000\n",
       "nodes                    9.0190\n",
       "num_folds                5.5000\n",
       "precision               69.5269\n",
       "reduced_error_pruning    0.4571\n",
       "save_instance_data       0.5000\n",
       "subtree_raising          0.4857\n",
       "tree_size               42.6635\n",
       "unpruned                 0.0286\n",
       "dtype: float64"
      ]
     },
     "metadata": {},
     "output_type": "display_data"
    }
   ],
   "source": [
    "best_and_worst(dataset, y_key='leaves', ascending=True)"
   ]
  },
  {
   "cell_type": "code",
   "execution_count": 88,
   "metadata": {
    "scrolled": true
   },
   "outputs": [
    {
     "name": "stdout",
     "output_type": "stream",
     "text": [
      "Bests:\n"
     ]
    },
    {
     "data": {
      "text/plain": [
       "binary_splits            0.0000\n",
       "confidence_factor           nan\n",
       "config_laplace           0.5600\n",
       "depth                    2.7600\n",
       "leaves                  23.8300\n",
       "min_num_obj              6.4200\n",
       "nodes                    2.8400\n",
       "num_folds                6.5500\n",
       "precision               64.8488\n",
       "reduced_error_pruning    1.0000\n",
       "save_instance_data       0.5000\n",
       "subtree_raising          0.5000\n",
       "tree_size               28.2600\n",
       "unpruned                 0.0000\n",
       "dtype: float64"
      ]
     },
     "metadata": {},
     "output_type": "display_data"
    },
    {
     "name": "stdout",
     "output_type": "stream",
     "text": [
      "Worsts:\n"
     ]
    },
    {
     "data": {
      "text/plain": [
       "binary_splits            1.0000\n",
       "confidence_factor        0.6710\n",
       "config_laplace           0.4500\n",
       "depth                   13.2000\n",
       "leaves                  31.0900\n",
       "min_num_obj              1.3300\n",
       "nodes                   23.8000\n",
       "num_folds                5.2615\n",
       "precision               74.1317\n",
       "reduced_error_pruning    0.6500\n",
       "save_instance_data       0.5100\n",
       "subtree_raising          0.4800\n",
       "tree_size               61.1800\n",
       "unpruned                 0.0400\n",
       "dtype: float64"
      ]
     },
     "metadata": {},
     "output_type": "display_data"
    },
    {
     "name": "stdout",
     "output_type": "stream",
     "text": [
      "Mean:\n"
     ]
    },
    {
     "data": {
      "text/plain": [
       "binary_splits            0.5000\n",
       "confidence_factor        0.5000\n",
       "config_laplace           0.5000\n",
       "depth                    6.7889\n",
       "leaves                  28.3683\n",
       "min_num_obj              5.0000\n",
       "nodes                    9.0190\n",
       "num_folds                5.5000\n",
       "precision               69.5269\n",
       "reduced_error_pruning    0.4571\n",
       "save_instance_data       0.5000\n",
       "subtree_raising          0.4857\n",
       "tree_size               42.6635\n",
       "unpruned                 0.0286\n",
       "dtype: float64"
      ]
     },
     "metadata": {},
     "output_type": "display_data"
    }
   ],
   "source": [
    "best_and_worst(dataset, y_key='depth', ascending=True)"
   ]
  },
  {
   "cell_type": "code",
   "execution_count": 89,
   "metadata": {
    "scrolled": true
   },
   "outputs": [
    {
     "name": "stdout",
     "output_type": "stream",
     "text": [
      "Bests:\n"
     ]
    },
    {
     "data": {
      "text/plain": [
       "binary_splits            0.2000\n",
       "confidence_factor           nan\n",
       "config_laplace           0.4600\n",
       "depth                    3.3300\n",
       "leaves                  19.4700\n",
       "min_num_obj              7.2000\n",
       "nodes                    2.3600\n",
       "num_folds                6.5800\n",
       "precision               64.1024\n",
       "reduced_error_pruning    1.0000\n",
       "save_instance_data       0.4900\n",
       "subtree_raising          0.5400\n",
       "tree_size               23.9400\n",
       "unpruned                 0.0000\n",
       "dtype: float64"
      ]
     },
     "metadata": {},
     "output_type": "display_data"
    },
    {
     "name": "stdout",
     "output_type": "stream",
     "text": [
      "Worsts:\n"
     ]
    },
    {
     "data": {
      "text/plain": [
       "binary_splits            1.0000\n",
       "confidence_factor        0.5000\n",
       "config_laplace           0.5000\n",
       "depth                   12.7200\n",
       "leaves                  36.0400\n",
       "min_num_obj              1.0000\n",
       "nodes                   27.5200\n",
       "num_folds                5.3333\n",
       "precision               78.4390\n",
       "reduced_error_pruning    0.2400\n",
       "save_instance_data       0.5000\n",
       "subtree_raising          0.4800\n",
       "tree_size               71.0800\n",
       "unpruned                 0.0400\n",
       "dtype: float64"
      ]
     },
     "metadata": {},
     "output_type": "display_data"
    },
    {
     "name": "stdout",
     "output_type": "stream",
     "text": [
      "Mean:\n"
     ]
    },
    {
     "data": {
      "text/plain": [
       "binary_splits            0.5000\n",
       "confidence_factor        0.5000\n",
       "config_laplace           0.5000\n",
       "depth                    6.7889\n",
       "leaves                  28.3683\n",
       "min_num_obj              5.0000\n",
       "nodes                    9.0190\n",
       "num_folds                5.5000\n",
       "precision               69.5269\n",
       "reduced_error_pruning    0.4571\n",
       "save_instance_data       0.5000\n",
       "subtree_raising          0.4857\n",
       "tree_size               42.6635\n",
       "unpruned                 0.0286\n",
       "dtype: float64"
      ]
     },
     "metadata": {},
     "output_type": "display_data"
    }
   ],
   "source": [
    "best_and_worst(dataset, y_key='nodes', ascending=True)"
   ]
  },
  {
   "cell_type": "code",
   "execution_count": null,
   "metadata": {
    "collapsed": true
   },
   "outputs": [],
   "source": []
  }
 ],
 "metadata": {
  "kernelspec": {
   "display_name": "Python 3",
   "language": "python",
   "name": "python3"
  },
  "language_info": {
   "codemirror_mode": {
    "name": "ipython",
    "version": 3
   },
   "file_extension": ".py",
   "mimetype": "text/x-python",
   "name": "python",
   "nbconvert_exporter": "python",
   "pygments_lexer": "ipython3",
   "version": "3.6.3"
  }
 },
 "nbformat": 4,
 "nbformat_minor": 2
}
